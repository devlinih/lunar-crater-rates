{
 "cells": [
  {
   "cell_type": "code",
   "execution_count": null,
   "id": "f47437bb-727e-41db-a494-c32c9f4e18cc",
   "metadata": {
    "collapsed": false
   },
   "outputs": [],
   "source": [
    "import pandas as pd\n",
    "import numpy as np"
   ]
  },
  {
   "cell_type": "code",
   "execution_count": 2,
   "id": "7356698d-57d9-4586-aba5-acee92e4a12e",
   "metadata": {
    "collapsed": false
   },
   "outputs": [],
   "source": [
    "robbins_craters = pd.read_csv(\"./lunar_crater_database_robbins_2018.csv\")\n",
    "yang_aged_craters = pd.read_csv(\"./Aged_Lunar_Crater_Database_DeepCraters_2020.csv\")"
   ]
  },
  {
   "cell_type": "markdown",
   "id": "5e179b35",
   "metadata": {},
   "source": [
    "The Yang 2020 database contains the ages for all craters larger than 10km in diameter. We need to process the Robbins 2018 database to find all craters less than 10km."
   ]
  },
  {
   "cell_type": "code",
   "execution_count": 3,
   "id": "a39a3b36-8b25-468a-8e10-cb857c761422",
   "metadata": {
    "collapsed": false
   },
   "outputs": [],
   "source": [
    "lt_10_inds = robbins_craters[\"DIAM_CIRC_IMG\"] < 10\n",
    "robbins_craters = robbins_craters[lt_10_inds]"
   ]
  },
  {
   "cell_type": "markdown",
   "id": "c50b5c3d",
   "metadata": {},
   "source": [
    "For the sake of making modular arithmatic easier, we will add 360 to all negative longitudes in both databases."
   ]
  },
  {
   "cell_type": "code",
   "execution_count": 4,
   "id": "a2275ce6",
   "metadata": {},
   "outputs": [],
   "source": [
    "def correct_lon_column(df, lon_name):\n",
    "    \"\"\"\n",
    "    Add 360 to all negative longitude values in dataframe.\n",
    "\n",
    "    Has the side effect of modifying the passed in dataframe.\n",
    "\n",
    "    df: Pandas dataframe\n",
    "    name: Name of column in the dataframe\n",
    "    \"\"\"\n",
    "    def bool_to_deg(x):\n",
    "        if x:\n",
    "            return 360\n",
    "        return 0\n",
    "    neg_lon = df[lon_name] < 0\n",
    "    lon_correct_factor = [bool_to_deg(i) for i in neg_lon]\n",
    "    df[lon_name] = df[lon_name] + lon_correct_factor\n",
    "\n",
    "correct_lon_column(robbins_craters, \"LON_CIRC_IMG\")\n",
    "correct_lon_column(yang_aged_craters, \"Lon\")"
   ]
  },
  {
   "cell_type": "markdown",
   "id": "8592397f",
   "metadata": {},
   "source": [
    "We will now look at every crater smaller than 10km in Robbins 2018, and see if it lies within Yang 2020.\n",
    "\n",
    "To check if a child crater lies within a parent crater, we first calculate the distance between the centerpoints of each crater. Then, we check if that distance is smaller the radius of the parent crater."
   ]
  },
  {
   "cell_type": "code",
   "execution_count": 6,
   "id": "88fa98a8",
   "metadata": {},
   "outputs": [],
   "source": [
    "# https://nssdc.gsfc.nasa.gov/planetary/factsheet/moonfact.html\n",
    "MOON_MEAN_RADIUS = 1737.4 # km\n",
    "\n",
    "\n",
    "def great_cirlce_distance(a_lon, a_lat, b_lon, b_lat, radius=MOON_MEAN_RADIUS):\n",
    "    \"\"\"\n",
    "    Calculate the great circle distance between two points.\n",
    "\n",
    "    Assumes lon/lat is passed in degrees.\n",
    "    \"\"\"\n",
    "    a_lon = np.deg2rad(a_lon)\n",
    "    a_lat = np.deg2rad(a_lat)\n",
    "    b_lon = np.deg2rad(b_lon)\n",
    "    b_lat = np.deg2rad(b_lat)\n",
    "\n",
    "    angle = np.arccos(np.sin(a_lat) * np.sin(b_lat)\n",
    "                      + np.cos(a_lat) * np.cos(b_lat) * np.cos(a_lon-b_lon))\n",
    "    return angle * radius\n",
    "\n",
    "\n",
    "def crater_in_crater(c_lon, c_lat, p_lon, p_lat, p_diam):\n",
    "    \"\"\"\n",
    "    Check if child crater c lies within parent crater p.\n",
    "    \"\"\"\n",
    "    dist = great_cirlce_distance(c_lon, c_lat, p_lon, p_lat)\n",
    "    return dist < p_diam\n",
    "\n",
    "\n",
    "def child_in_parents()\n",
    "\n",
    "\n",
    "def craters_in_craters(child_df, parent_df):\n",
    "    \"\"\"\n",
    "    Check if craters in child_df are in parent_df.\n",
    "\n",
    "    Both input dataframes have the columns: [\"id\", \"lon\", \"lat\", \"diam\"]\n",
    "\n",
    "    Has the side effect of adding a new column to parent_df called \"children_ids\",\n",
    "    the set of IDs of child craters.\n",
    "    \"\"\"\n",
    "    pass"
   ]
  },
  {
   "cell_type": "code",
   "execution_count": 7,
   "id": "090e1167-3917-40ae-b51b-bf9ecbc63c3f",
   "metadata": {
    "collapsed": false
   },
   "outputs": [
    {
     "name": "stderr",
     "output_type": "stream",
     "text": [
      "/tmp/ipykernel_8911/2318420125.py:16: RuntimeWarning: invalid value encountered in arccos\n",
      "  angle = np.arccos(np.sin(a_lat) * np.sin(b_lat)\n"
     ]
    },
    {
     "ename": "KeyboardInterrupt",
     "evalue": "",
     "output_type": "error",
     "traceback": [
      "\u001b[0;31m---------------------------------------------------------------------------\u001b[0m",
      "\u001b[0;31mKeyboardInterrupt\u001b[0m                         Traceback (most recent call last)",
      "\u001b[1;32m/home/devlin/Documents/lunar-crater-rates/lunar-crater-rates.ipynb Cell 9\u001b[0m line \u001b[0;36m1\n\u001b[1;32m      <a href='vscode-notebook-cell:/home/devlin/Documents/lunar-crater-rates/lunar-crater-rates.ipynb#X10sZmlsZQ%3D%3D?line=8'>9</a>\u001b[0m yang_lat  \u001b[39m=\u001b[39m yang_crater[\u001b[39m\"\u001b[39m\u001b[39mLat\u001b[39m\u001b[39m\"\u001b[39m]\n\u001b[1;32m     <a href='vscode-notebook-cell:/home/devlin/Documents/lunar-crater-rates/lunar-crater-rates.ipynb#X10sZmlsZQ%3D%3D?line=9'>10</a>\u001b[0m yang_diam \u001b[39m=\u001b[39m yang_crater[\u001b[39m\"\u001b[39m\u001b[39mDiam_km\u001b[39m\u001b[39m\"\u001b[39m]\n\u001b[0;32m---> <a href='vscode-notebook-cell:/home/devlin/Documents/lunar-crater-rates/lunar-crater-rates.ipynb#X10sZmlsZQ%3D%3D?line=10'>11</a>\u001b[0m \u001b[39mif\u001b[39;00m crater_in_crater(robbins_lon, robbins_lat, yang_lon, yang_lat, yang_diam):\n\u001b[1;32m     <a href='vscode-notebook-cell:/home/devlin/Documents/lunar-crater-rates/lunar-crater-rates.ipynb#X10sZmlsZQ%3D%3D?line=11'>12</a>\u001b[0m     robbins_id \u001b[39m=\u001b[39m robbins_craters[\u001b[39m\"\u001b[39m\u001b[39mCRATER_ID\u001b[39m\u001b[39m\"\u001b[39m][robbins_ind]\n\u001b[1;32m     <a href='vscode-notebook-cell:/home/devlin/Documents/lunar-crater-rates/lunar-crater-rates.ipynb#X10sZmlsZQ%3D%3D?line=12'>13</a>\u001b[0m     yang_aged_craters[\u001b[39m\"\u001b[39m\u001b[39mChild_Robbins_Crater_IDs\u001b[39m\u001b[39m\"\u001b[39m][yang_ind]\u001b[39m.\u001b[39madd(robbins_id)\n",
      "\u001b[1;32m/home/devlin/Documents/lunar-crater-rates/lunar-crater-rates.ipynb Cell 9\u001b[0m line \u001b[0;36m2\n\u001b[1;32m     <a href='vscode-notebook-cell:/home/devlin/Documents/lunar-crater-rates/lunar-crater-rates.ipynb#X10sZmlsZQ%3D%3D?line=20'>21</a>\u001b[0m \u001b[39mdef\u001b[39;00m \u001b[39mcrater_in_crater\u001b[39m(c_lon, c_lat, p_lon, p_lat, p_diam):\n\u001b[1;32m     <a href='vscode-notebook-cell:/home/devlin/Documents/lunar-crater-rates/lunar-crater-rates.ipynb#X10sZmlsZQ%3D%3D?line=21'>22</a>\u001b[0m \u001b[39m    \u001b[39m\u001b[39m\"\"\"\u001b[39;00m\n\u001b[1;32m     <a href='vscode-notebook-cell:/home/devlin/Documents/lunar-crater-rates/lunar-crater-rates.ipynb#X10sZmlsZQ%3D%3D?line=22'>23</a>\u001b[0m \u001b[39m    Check if child crater c lies within parent crater p.\u001b[39;00m\n\u001b[1;32m     <a href='vscode-notebook-cell:/home/devlin/Documents/lunar-crater-rates/lunar-crater-rates.ipynb#X10sZmlsZQ%3D%3D?line=23'>24</a>\u001b[0m \u001b[39m    \"\"\"\u001b[39;00m\n\u001b[0;32m---> <a href='vscode-notebook-cell:/home/devlin/Documents/lunar-crater-rates/lunar-crater-rates.ipynb#X10sZmlsZQ%3D%3D?line=24'>25</a>\u001b[0m     dist \u001b[39m=\u001b[39m great_cirlce_distance(c_lon, c_lat, p_lon, p_lat)\n\u001b[1;32m     <a href='vscode-notebook-cell:/home/devlin/Documents/lunar-crater-rates/lunar-crater-rates.ipynb#X10sZmlsZQ%3D%3D?line=25'>26</a>\u001b[0m     \u001b[39mreturn\u001b[39;00m dist \u001b[39m<\u001b[39m p_diam\n",
      "\u001b[1;32m/home/devlin/Documents/lunar-crater-rates/lunar-crater-rates.ipynb Cell 9\u001b[0m line \u001b[0;36m1\n\u001b[1;32m     <a href='vscode-notebook-cell:/home/devlin/Documents/lunar-crater-rates/lunar-crater-rates.ipynb#X10sZmlsZQ%3D%3D?line=12'>13</a>\u001b[0m b_lon \u001b[39m=\u001b[39m np\u001b[39m.\u001b[39mdeg2rad(b_lon)\n\u001b[1;32m     <a href='vscode-notebook-cell:/home/devlin/Documents/lunar-crater-rates/lunar-crater-rates.ipynb#X10sZmlsZQ%3D%3D?line=13'>14</a>\u001b[0m b_lat \u001b[39m=\u001b[39m np\u001b[39m.\u001b[39mdeg2rad(b_lat)\n\u001b[1;32m     <a href='vscode-notebook-cell:/home/devlin/Documents/lunar-crater-rates/lunar-crater-rates.ipynb#X10sZmlsZQ%3D%3D?line=15'>16</a>\u001b[0m angle \u001b[39m=\u001b[39m np\u001b[39m.\u001b[39marccos(np\u001b[39m.\u001b[39msin(a_lat) \u001b[39m*\u001b[39m np\u001b[39m.\u001b[39msin(b_lat)\n\u001b[0;32m---> <a href='vscode-notebook-cell:/home/devlin/Documents/lunar-crater-rates/lunar-crater-rates.ipynb#X10sZmlsZQ%3D%3D?line=16'>17</a>\u001b[0m                   \u001b[39m+\u001b[39m np\u001b[39m.\u001b[39mcos(a_lat) \u001b[39m*\u001b[39m np\u001b[39m.\u001b[39mcos(b_lat) \u001b[39m*\u001b[39m np\u001b[39m.\u001b[39mcos(a_lon\u001b[39m-\u001b[39mb_lon))\n\u001b[1;32m     <a href='vscode-notebook-cell:/home/devlin/Documents/lunar-crater-rates/lunar-crater-rates.ipynb#X10sZmlsZQ%3D%3D?line=17'>18</a>\u001b[0m \u001b[39mreturn\u001b[39;00m angle \u001b[39m*\u001b[39m radius\n",
      "\u001b[0;31mKeyboardInterrupt\u001b[0m: "
     ]
    }
   ],
   "source": [
    "yang_aged_craters[\"Child_Robbins_Crater_IDs\"] = [set() for _ in range(len(yang_aged_craters))]\n",
    "\n",
    "for robbins_ind, robbins_crater in robbins_craters.iterrows():\n",
    "    robbins_lon  = robbins_crater[\"LON_CIRC_IMG\"]\n",
    "    robbins_lat  = robbins_crater[\"LAT_CIRC_IMG\"]\n",
    "    \n",
    "    for yang_ind, yang_crater in yang_aged_craters.iterrows():\n",
    "        yang_lon  = yang_crater[\"Lon\"]\n",
    "        yang_lat  = yang_crater[\"Lat\"]\n",
    "        yang_diam = yang_crater[\"Diam_km\"]\n",
    "        if crater_in_crater(robbins_lon, robbins_lat, yang_lon, yang_lat, yang_diam):\n",
    "            robbins_id = robbins_craters[\"CRATER_ID\"][robbins_ind]\n",
    "            yang_aged_craters[\"Child_Robbins_Crater_IDs\"][yang_ind].add(robbins_id)\n",
    "            break"
   ]
  },
  {
   "cell_type": "code",
   "execution_count": 12,
   "id": "3e070e9e",
   "metadata": {},
   "outputs": [
    {
     "data": {
      "text/html": [
       "<div>\n",
       "<style scoped>\n",
       "    .dataframe tbody tr th:only-of-type {\n",
       "        vertical-align: middle;\n",
       "    }\n",
       "\n",
       "    .dataframe tbody tr th {\n",
       "        vertical-align: top;\n",
       "    }\n",
       "\n",
       "    .dataframe thead th {\n",
       "        text-align: right;\n",
       "    }\n",
       "</style>\n",
       "<table border=\"1\" class=\"dataframe\">\n",
       "  <thead>\n",
       "    <tr style=\"text-align: right;\">\n",
       "      <th></th>\n",
       "      <th>Flags_data</th>\n",
       "      <th>ID</th>\n",
       "      <th>Lat</th>\n",
       "      <th>Lon</th>\n",
       "      <th>Diam_km</th>\n",
       "      <th>Age</th>\n",
       "      <th>Child_Robbins_Crater_IDs</th>\n",
       "    </tr>\n",
       "  </thead>\n",
       "  <tbody>\n",
       "    <tr>\n",
       "      <th>0</th>\n",
       "      <td>CE1</td>\n",
       "      <td>1</td>\n",
       "      <td>-8.503370</td>\n",
       "      <td>293.189000</td>\n",
       "      <td>19.987530</td>\n",
       "      <td>2</td>\n",
       "      <td>{}</td>\n",
       "    </tr>\n",
       "    <tr>\n",
       "      <th>1</th>\n",
       "      <td>CE1</td>\n",
       "      <td>2</td>\n",
       "      <td>-7.408700</td>\n",
       "      <td>8.209640</td>\n",
       "      <td>19.986876</td>\n",
       "      <td>5</td>\n",
       "      <td>{}</td>\n",
       "    </tr>\n",
       "    <tr>\n",
       "      <th>2</th>\n",
       "      <td>CE1</td>\n",
       "      <td>3</td>\n",
       "      <td>64.340500</td>\n",
       "      <td>67.728600</td>\n",
       "      <td>19.985744</td>\n",
       "      <td>5</td>\n",
       "      <td>{}</td>\n",
       "    </tr>\n",
       "    <tr>\n",
       "      <th>3</th>\n",
       "      <td>CE1</td>\n",
       "      <td>4</td>\n",
       "      <td>-32.517300</td>\n",
       "      <td>34.820200</td>\n",
       "      <td>19.985460</td>\n",
       "      <td>2</td>\n",
       "      <td>{}</td>\n",
       "    </tr>\n",
       "    <tr>\n",
       "      <th>4</th>\n",
       "      <td>CE1</td>\n",
       "      <td>5</td>\n",
       "      <td>21.586500</td>\n",
       "      <td>80.999700</td>\n",
       "      <td>19.984877</td>\n",
       "      <td>2</td>\n",
       "      <td>{}</td>\n",
       "    </tr>\n",
       "    <tr>\n",
       "      <th>...</th>\n",
       "      <td>...</td>\n",
       "      <td>...</td>\n",
       "      <td>...</td>\n",
       "      <td>...</td>\n",
       "      <td>...</td>\n",
       "      <td>...</td>\n",
       "      <td>...</td>\n",
       "    </tr>\n",
       "    <tr>\n",
       "      <th>18991</th>\n",
       "      <td>CE2</td>\n",
       "      <td>116980</td>\n",
       "      <td>-63.872833</td>\n",
       "      <td>119.773304</td>\n",
       "      <td>10.584219</td>\n",
       "      <td>1</td>\n",
       "      <td>{}</td>\n",
       "    </tr>\n",
       "    <tr>\n",
       "      <th>18992</th>\n",
       "      <td>CE2</td>\n",
       "      <td>117003</td>\n",
       "      <td>-64.415138</td>\n",
       "      <td>180.715665</td>\n",
       "      <td>11.905659</td>\n",
       "      <td>2</td>\n",
       "      <td>{}</td>\n",
       "    </tr>\n",
       "    <tr>\n",
       "      <th>18993</th>\n",
       "      <td>CE2</td>\n",
       "      <td>117017</td>\n",
       "      <td>-64.372227</td>\n",
       "      <td>203.861354</td>\n",
       "      <td>14.643919</td>\n",
       "      <td>2</td>\n",
       "      <td>{}</td>\n",
       "    </tr>\n",
       "    <tr>\n",
       "      <th>18994</th>\n",
       "      <td>CE2</td>\n",
       "      <td>117238</td>\n",
       "      <td>-64.545580</td>\n",
       "      <td>174.082361</td>\n",
       "      <td>8.129036</td>\n",
       "      <td>5</td>\n",
       "      <td>{}</td>\n",
       "    </tr>\n",
       "    <tr>\n",
       "      <th>18995</th>\n",
       "      <td>CE2</td>\n",
       "      <td>117240</td>\n",
       "      <td>-64.484248</td>\n",
       "      <td>178.381197</td>\n",
       "      <td>9.808453</td>\n",
       "      <td>4</td>\n",
       "      <td>{}</td>\n",
       "    </tr>\n",
       "  </tbody>\n",
       "</table>\n",
       "<p>18996 rows × 7 columns</p>\n",
       "</div>"
      ],
      "text/plain": [
       "      Flags_data      ID        Lat         Lon    Diam_km  Age  \\\n",
       "0            CE1       1  -8.503370  293.189000  19.987530    2   \n",
       "1            CE1       2  -7.408700    8.209640  19.986876    5   \n",
       "2            CE1       3  64.340500   67.728600  19.985744    5   \n",
       "3            CE1       4 -32.517300   34.820200  19.985460    2   \n",
       "4            CE1       5  21.586500   80.999700  19.984877    2   \n",
       "...          ...     ...        ...         ...        ...  ...   \n",
       "18991        CE2  116980 -63.872833  119.773304  10.584219    1   \n",
       "18992        CE2  117003 -64.415138  180.715665  11.905659    2   \n",
       "18993        CE2  117017 -64.372227  203.861354  14.643919    2   \n",
       "18994        CE2  117238 -64.545580  174.082361   8.129036    5   \n",
       "18995        CE2  117240 -64.484248  178.381197   9.808453    4   \n",
       "\n",
       "      Child_Robbins_Crater_IDs  \n",
       "0                           {}  \n",
       "1                           {}  \n",
       "2                           {}  \n",
       "3                           {}  \n",
       "4                           {}  \n",
       "...                        ...  \n",
       "18991                       {}  \n",
       "18992                       {}  \n",
       "18993                       {}  \n",
       "18994                       {}  \n",
       "18995                       {}  \n",
       "\n",
       "[18996 rows x 7 columns]"
      ]
     },
     "execution_count": 12,
     "metadata": {},
     "output_type": "execute_result"
    }
   ],
   "source": [
    "yang_aged_craters"
   ]
  }
 ],
 "metadata": {
  "kernelspec": {
   "argv": [
    "/home/devlin/.pyenv/versions/anaconda3-2023.07-2/bin/python",
    "-m",
    "ipykernel_launcher",
    "-f",
    "{connection_file}"
   ],
   "display_name": "Python 3 (ipykernel)",
   "env": null,
   "interrupt_mode": "signal",
   "language": "python",
   "metadata": {
    "debugger": true
   },
   "name": "python3"
  },
  "language_info": {
   "codemirror_mode": {
    "name": "ipython",
    "version": 3
   },
   "file_extension": ".py",
   "mimetype": "text/x-python",
   "name": "python",
   "nbconvert_exporter": "python",
   "pygments_lexer": "ipython3",
   "version": "3.11.4"
  },
  "name": "lunar-crater-rates.ipynb"
 },
 "nbformat": 4,
 "nbformat_minor": 5
}
