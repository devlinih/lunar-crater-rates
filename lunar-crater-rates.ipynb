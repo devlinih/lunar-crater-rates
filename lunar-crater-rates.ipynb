{
 "cells": [
  {
   "cell_type": "code",
   "execution_count": 1,
   "id": "f47437bb-727e-41db-a494-c32c9f4e18cc",
   "metadata": {
    "collapsed": false
   },
   "outputs": [],
   "source": [
    "import pandas as pd\n",
    "import numpy as np"
   ]
  },
  {
   "cell_type": "code",
   "execution_count": 2,
   "id": "7356698d-57d9-4586-aba5-acee92e4a12e",
   "metadata": {
    "collapsed": false
   },
   "outputs": [],
   "source": [
    "robbins_craters = pd.read_csv(\"./lunar_crater_database_robbins_2018.csv\")\n",
    "yang_aged_craters = pd.read_csv(\"./Aged_Lunar_Crater_Database_DeepCraters_2020.csv\")"
   ]
  },
  {
   "cell_type": "markdown",
   "id": "5e179b35",
   "metadata": {},
   "source": [
    "The Yang 2020 database contains the ages for all craters larger than 10km in diameter. We need to process the Robbins 2018 database to find all craters less than 10km."
   ]
  },
  {
   "cell_type": "code",
   "execution_count": 3,
   "id": "a39a3b36-8b25-468a-8e10-cb857c761422",
   "metadata": {
    "collapsed": false
   },
   "outputs": [],
   "source": [
    "lt_10_inds = robbins_craters[\"DIAM_CIRC_IMG\"] < 10\n",
    "robbins_craters = robbins_craters[lt_10_inds]"
   ]
  },
  {
   "cell_type": "markdown",
   "id": "c50b5c3d",
   "metadata": {},
   "source": [
    "For the sake of making modular arithmatic easier, we will add 360 to all negative longitudes in both databases."
   ]
  },
  {
   "cell_type": "code",
   "execution_count": 4,
   "id": "a2275ce6",
   "metadata": {},
   "outputs": [],
   "source": [
    "def correct_lon_column(df, lon_name):\n",
    "    \"\"\"\n",
    "    Add 360 to all negative longitude values in dataframe.\n",
    "\n",
    "    Has the side effect of modifying the passed in dataframe.\n",
    "\n",
    "    df: Pandas dataframe\n",
    "    name: Name of column in the dataframe\n",
    "    \"\"\"\n",
    "    def bool_to_deg(x):\n",
    "        if x:\n",
    "            return 360\n",
    "        return 0\n",
    "    neg_lon = df[lon_name] < 0\n",
    "    lon_correct_factor = [bool_to_deg(i) for i in neg_lon]\n",
    "    df[lon_name] = df[lon_name] + lon_correct_factor\n",
    "\n",
    "correct_lon_column(robbins_craters, \"LON_CIRC_IMG\")\n",
    "correct_lon_column(yang_aged_craters, \"Lon\")"
   ]
  },
  {
   "cell_type": "markdown",
   "id": "8592397f",
   "metadata": {},
   "source": [
    "We will now look at every crater smaller than 10km in Robbins 2018, and see if it lies within Yang 2020.\n",
    "\n",
    "To check if a child crater lies within a parent crater, we first calculate the distance between the centerpoints of each crater. Then, we check if that distance is smaller the radius of the parent crater. We used this method to create a new database.\n",
    "\n",
    "- `yang_id`: ID of crater in the Yang 2020 database\n",
    "- `robbins_ids`: Set of IDs of craters in Robbins 2018 database that lie within a crater in the Yang database."
   ]
  },
  {
   "cell_type": "code",
   "execution_count": 6,
   "id": "88fa98a8",
   "metadata": {},
   "outputs": [],
   "source": [
    "craters_in_craters = pd.read_csv(\"./robbins_in_yang.csv\")"
   ]
  },
  {
   "cell_type": "markdown",
   "id": "6834b4b0",
   "metadata": {},
   "source": []
  },
  {
   "cell_type": "code",
   "execution_count": 16,
   "id": "090e1167-3917-40ae-b51b-bf9ecbc63c3f",
   "metadata": {
    "collapsed": false
   },
   "outputs": [],
   "source": [
    "example_parent_crater = craters_in_craters[\"yang_id\"][0]\n",
    "example_child_craters = craters_in_craters[\"robbins_ids\"][0]\n",
    "\n",
    "print(f\"ID of parent crater in Yang 2020: {example_parent_crater}\")\n",
    "print(f\"IDs of child craters in Robbins 2018 within the parent: {example_child_craters}\")"
   ]
  },
  {
   "cell_type": "code",
   "execution_count": 17,
   "id": "3e070e9e",
   "metadata": {},
   "outputs": [
    {
     "data": {
      "text/plain": [
       "\"{'01-1-002004', '01-1-002609', '01-1-002759', '01-1-001987', '01-1-002610', '01-1-001985', '01-1-002611', '01-1-001989', '01-1-002604', '01-1-002040', '01-1-002708', '01-1-002765', '01-1-002760', '01-1-002608', '01-1-002624', '01-1-002621', '01-1-002692', '01-1-001953', '01-1-003912', '01-1-002001', '01-1-002002', '01-1-002600', '01-1-002023', '01-1-002003', '01-1-001993', '01-1-002701', '01-1-002021', '01-1-002012', '01-1-002054', '01-1-000006', '01-1-002056', '01-1-002598', '01-1-002713', '01-1-002705', '01-1-002684', '01-1-002703', '01-1-002602', '01-1-002710', '01-1-002704', '01-1-002009', '01-1-002011', '01-1-002683', '01-1-002024', '01-1-002686', '01-1-001955', '01-1-002599', '01-1-002693', '01-1-003913', '01-1-002696', '01-1-002690', '01-1-003914', '01-1-002712', '01-1-002025', '01-1-002620', '01-1-002709', '01-1-002688', '01-1-002006', '01-1-002605', '01-1-002613', '01-1-001995', '01-1-002768', '01-2-027898', '01-1-002702', '01-1-002053', '01-1-002612', '01-1-002008', '01-1-001991', '01-1-001984', '01-1-001994', '01-1-002699', '01-1-002731', '01-1-003916', '01-1-002005', '01-1-002691', '01-1-001990', '01-1-002698', '01-1-002730', '01-1-002694', '01-1-002601', '01-1-002603', '01-1-002687', '01-1-002764', '01-1-002723', '01-1-002697', '01-1-002623', '01-1-001986', '01-1-002022'}\""
      ]
     },
     "execution_count": 17,
     "metadata": {},
     "output_type": "execute_result"
    }
   ],
   "source": [
    "example_child_craters"
   ]
  }
 ],
 "metadata": {
  "kernelspec": {
   "argv": [
    "/home/devlin/.pyenv/versions/anaconda3-2023.07-2/bin/python",
    "-m",
    "ipykernel_launcher",
    "-f",
    "{connection_file}"
   ],
   "display_name": "Python 3 (ipykernel)",
   "env": null,
   "interrupt_mode": "signal",
   "language": "python",
   "metadata": {
    "debugger": true
   },
   "name": "python3"
  },
  "language_info": {
   "codemirror_mode": {
    "name": "ipython",
    "version": 3
   },
   "file_extension": ".py",
   "mimetype": "text/x-python",
   "name": "python",
   "nbconvert_exporter": "python",
   "pygments_lexer": "ipython3",
   "version": "3.11.4"
  },
  "name": "lunar-crater-rates.ipynb"
 },
 "nbformat": 4,
 "nbformat_minor": 5
}
